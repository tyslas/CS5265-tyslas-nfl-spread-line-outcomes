{
  "nbformat": 4,
  "nbformat_minor": 0,
  "metadata": {
    "colab": {
      "provenance": [],
      "mount_file_id": "https://github.com/tyslas/CS5265-tyslas-nfl-spread-line-outcomes/blob/main/NFLSpreadAndLineOutcomes.ipynb",
      "authorship_tag": "ABX9TyNwbgTAnFF7G50QVDdtFYBu",
      "include_colab_link": true
    },
    "kernelspec": {
      "name": "python3",
      "display_name": "Python 3"
    },
    "language_info": {
      "name": "python"
    }
  },
  "cells": [
    {
      "cell_type": "markdown",
      "metadata": {
        "id": "view-in-github",
        "colab_type": "text"
      },
      "source": [
        "<a href=\"https://colab.research.google.com/github/tyslas/CS5265-tyslas-nfl-spread-line-outcomes/blob/main/NFLSpreadAndLineOutcomes.ipynb\" target=\"_parent\"><img src=\"https://colab.research.google.com/assets/colab-badge.svg\" alt=\"Open In Colab\"/></a>"
      ]
    },
    {
      "cell_type": "markdown",
      "source": [
        "\n",
        "# Project to predict future NFL Spread & Line outcomes\n",
        "\n",
        "## Author: Tito Yslas\n",
        "\n",
        "### Background\n",
        "I enjoy watching the NFL and playing fantasy football. I also like to place bets on games using apps like FanDuel. The purpose of this project is to increase my understanding of the NFL betting market and possibly create a machine learning model to give myself an edge next season.\n",
        "\n",
        "### Project Description\n",
        "I found a dataset from Kaggle titled [NFL scores and betting data](https://www.kaggle.com/datasets/tobycrabtree/nfl-scores-and-betting-data?resource=download). This dataset has over 13,000 samples and 17 features. The goal is to use this dataset to train a model that will predict the winner of a given game.\n",
        "\n",
        "### Performance Metric\n",
        "For my performance metric, I will aim for the model to have at least 70% accuracy."
      ],
      "metadata": {
        "id": "AB1jvMR96flY"
      }
    },
    {
      "cell_type": "markdown",
      "source": [
        "## Import Libraries"
      ],
      "metadata": {
        "id": "9BTvFVEI9cf7"
      }
    },
    {
      "cell_type": "code",
      "source": [
        "import pandas as pd\n",
        "import os\n",
        "import seaborn as sns\n",
        "import matplotlib.pyplot as plt"
      ],
      "metadata": {
        "id": "hqcOze6S9aFh"
      },
      "execution_count": 3,
      "outputs": []
    },
    {
      "cell_type": "markdown",
      "source": [
        "## Load Data\n",
        "\n",
        "### Data Dictionary\n",
        "- schedule_date: Date that the game took place. This column is a date in the format MM/DD/YYYY\n",
        "- schedule_season: Year of the season began. NFL seasons start in the fall and end before the spring of the following year. So the 2023 season will refer to the years 2023-2024. This column is a number in the format YYYY\n",
        "- schedule_week: Week of the NFL season. This column is either a number during regular season weeks or a string in playoff weeks. For the purposes of this project the playoff weeks will be converted to numbers and the schedule_playoff column will be used to determine whether the week is a playoff game or not\n",
        "- schedule_playoff: This column is a boolean. FALSE is regular season and TRUE is playoffs\n",
        "- team_home: Name of the home team. This column is a string\n",
        "- score_home: Points scored by the home team. This column is a number\n",
        "- score_away: Points scored by the away team. This column is a number\n",
        "- winner: This column will be a feature derived from score_home and score_away columns to that will use one hot encoding - if team_home scores more points this will be a 1 - if team_home scores fewer points it will be a 0\n",
        "- team_away: Name of the away team. This column is a string\n",
        "- team_favorite_id: Acronym of the team that was determined most likely to win by the betting market. It is either two or three letters. For the purposes of this project this column will be changed to be either the team_home or team_away name\n",
        "- team_home_favorite: this will represent the encoded team_favorite_id - if team_home is favored this column will be marked as a 1 - if it's a zero then we know that team_away is favored\n",
        "- spread_favorite: The number of points that the favored team needs to win by for a bet placed on the spread of the favorite to win. This column will either be a negative number or zero\n",
        "- over_under_line: The number of points that both teams combined need to score for a bet placed on the 'line' to win. This column is a positive number\n",
        "- stadium: Name of the venue that the game is played\n",
        "- stadium_neutral: This column is a boolean. FALSE is not a neutral venue and TRUE is a neutral venue - for the purposes of this project this column will be one hot encoded with a neutral venue being marked as a 1 and non-neutral marked as a 0\n",
        "- weather_temperature: The temperature in Fahrenheit at the venue where the game is played. This column is a number\n",
        "- weather_wind_mph: The speed of wind in miles per hour. This column is a number\n",
        "- weather_humidity: The measurement of water vapor in the air during the game measured as a percentage. This column is a number\n",
        "- weather_detail: Other information about the weather conditions - if the venue is indoor or the venue has a retractable roof. This column is a string\n"
      ],
      "metadata": {
        "id": "pW84W_CR9gbO"
      }
    },
    {
      "cell_type": "code",
      "source": [
        "from google.colab import drive\n",
        "drive.mount('/content/drive/')\n",
        "# change directory to relevant files\n",
        "%cd /content/drive/MyDrive/vandy/nfl\n",
        "# print all file names in directory\n",
        "for file in os.listdir():\n",
        "  print(file)"
      ],
      "metadata": {
        "colab": {
          "base_uri": "https://localhost:8080/"
        },
        "id": "Dws_uGxH63s7",
        "outputId": "964311e9-346c-4c22-ae37-88c637a29fd4"
      },
      "execution_count": 4,
      "outputs": [
        {
          "output_type": "stream",
          "name": "stdout",
          "text": [
            "Drive already mounted at /content/drive/; to attempt to forcibly remount, call drive.mount(\"/content/drive/\", force_remount=True).\n",
            "/content/drive/MyDrive/vandy/nfl\n",
            "data_dictionary.csv\n",
            "spreadspoke_scores.csv\n"
          ]
        }
      ]
    },
    {
      "cell_type": "code",
      "source": [
        "scores = pd.read_csv('spreadspoke_scores.csv')\n",
        "display(scores.sample(2)) # prints o2 random rows\n",
        "scores.info()"
      ],
      "metadata": {
        "colab": {
          "base_uri": "https://localhost:8080/",
          "height": 674
        },
        "id": "BidRFzFS-MbB",
        "outputId": "cdf67828-addf-47ec-b837-016b7e300814"
      },
      "execution_count": 5,
      "outputs": [
        {
          "output_type": "display_data",
          "data": {
            "text/plain": [
              "      schedule_date  schedule_season schedule_week  schedule_playoff  \\\n",
              "8796        11/6/05             2005             9             False   \n",
              "12686       9/13/20             2020             1             False   \n",
              "\n",
              "               team_home  score_home  score_away       team_away  \\\n",
              "8796   Minnesota Vikings          27          14   Detroit Lions   \n",
              "12686   Los Angeles Rams          20          17  Dallas Cowboys   \n",
              "\n",
              "      team_favorite_id  spread_favorite over_under_line  \\\n",
              "8796               DET             -1.5            37.5   \n",
              "12686              DAL             -2.0            51.5   \n",
              "\n",
              "                            stadium  stadium_neutral  weather_temperature  \\\n",
              "8796   Hubert H. Humphrey Metrodome            False                 72.0   \n",
              "12686                  SoFi Stadium            False                 72.0   \n",
              "\n",
              "       weather_wind_mph  weather_humidity weather_detail  \n",
              "8796                0.0               NaN         indoor  \n",
              "12686               0.0               NaN         indoor  "
            ],
            "text/html": [
              "\n",
              "  <div id=\"df-48da9418-a59b-4009-b586-daefb800b8a4\">\n",
              "    <div class=\"colab-df-container\">\n",
              "      <div>\n",
              "<style scoped>\n",
              "    .dataframe tbody tr th:only-of-type {\n",
              "        vertical-align: middle;\n",
              "    }\n",
              "\n",
              "    .dataframe tbody tr th {\n",
              "        vertical-align: top;\n",
              "    }\n",
              "\n",
              "    .dataframe thead th {\n",
              "        text-align: right;\n",
              "    }\n",
              "</style>\n",
              "<table border=\"1\" class=\"dataframe\">\n",
              "  <thead>\n",
              "    <tr style=\"text-align: right;\">\n",
              "      <th></th>\n",
              "      <th>schedule_date</th>\n",
              "      <th>schedule_season</th>\n",
              "      <th>schedule_week</th>\n",
              "      <th>schedule_playoff</th>\n",
              "      <th>team_home</th>\n",
              "      <th>score_home</th>\n",
              "      <th>score_away</th>\n",
              "      <th>team_away</th>\n",
              "      <th>team_favorite_id</th>\n",
              "      <th>spread_favorite</th>\n",
              "      <th>over_under_line</th>\n",
              "      <th>stadium</th>\n",
              "      <th>stadium_neutral</th>\n",
              "      <th>weather_temperature</th>\n",
              "      <th>weather_wind_mph</th>\n",
              "      <th>weather_humidity</th>\n",
              "      <th>weather_detail</th>\n",
              "    </tr>\n",
              "  </thead>\n",
              "  <tbody>\n",
              "    <tr>\n",
              "      <th>8796</th>\n",
              "      <td>11/6/05</td>\n",
              "      <td>2005</td>\n",
              "      <td>9</td>\n",
              "      <td>False</td>\n",
              "      <td>Minnesota Vikings</td>\n",
              "      <td>27</td>\n",
              "      <td>14</td>\n",
              "      <td>Detroit Lions</td>\n",
              "      <td>DET</td>\n",
              "      <td>-1.5</td>\n",
              "      <td>37.5</td>\n",
              "      <td>Hubert H. Humphrey Metrodome</td>\n",
              "      <td>False</td>\n",
              "      <td>72.0</td>\n",
              "      <td>0.0</td>\n",
              "      <td>NaN</td>\n",
              "      <td>indoor</td>\n",
              "    </tr>\n",
              "    <tr>\n",
              "      <th>12686</th>\n",
              "      <td>9/13/20</td>\n",
              "      <td>2020</td>\n",
              "      <td>1</td>\n",
              "      <td>False</td>\n",
              "      <td>Los Angeles Rams</td>\n",
              "      <td>20</td>\n",
              "      <td>17</td>\n",
              "      <td>Dallas Cowboys</td>\n",
              "      <td>DAL</td>\n",
              "      <td>-2.0</td>\n",
              "      <td>51.5</td>\n",
              "      <td>SoFi Stadium</td>\n",
              "      <td>False</td>\n",
              "      <td>72.0</td>\n",
              "      <td>0.0</td>\n",
              "      <td>NaN</td>\n",
              "      <td>indoor</td>\n",
              "    </tr>\n",
              "  </tbody>\n",
              "</table>\n",
              "</div>\n",
              "      <button class=\"colab-df-convert\" onclick=\"convertToInteractive('df-48da9418-a59b-4009-b586-daefb800b8a4')\"\n",
              "              title=\"Convert this dataframe to an interactive table.\"\n",
              "              style=\"display:none;\">\n",
              "        \n",
              "  <svg xmlns=\"http://www.w3.org/2000/svg\" height=\"24px\"viewBox=\"0 0 24 24\"\n",
              "       width=\"24px\">\n",
              "    <path d=\"M0 0h24v24H0V0z\" fill=\"none\"/>\n",
              "    <path d=\"M18.56 5.44l.94 2.06.94-2.06 2.06-.94-2.06-.94-.94-2.06-.94 2.06-2.06.94zm-11 1L8.5 8.5l.94-2.06 2.06-.94-2.06-.94L8.5 2.5l-.94 2.06-2.06.94zm10 10l.94 2.06.94-2.06 2.06-.94-2.06-.94-.94-2.06-.94 2.06-2.06.94z\"/><path d=\"M17.41 7.96l-1.37-1.37c-.4-.4-.92-.59-1.43-.59-.52 0-1.04.2-1.43.59L10.3 9.45l-7.72 7.72c-.78.78-.78 2.05 0 2.83L4 21.41c.39.39.9.59 1.41.59.51 0 1.02-.2 1.41-.59l7.78-7.78 2.81-2.81c.8-.78.8-2.07 0-2.86zM5.41 20L4 18.59l7.72-7.72 1.47 1.35L5.41 20z\"/>\n",
              "  </svg>\n",
              "      </button>\n",
              "      \n",
              "  <style>\n",
              "    .colab-df-container {\n",
              "      display:flex;\n",
              "      flex-wrap:wrap;\n",
              "      gap: 12px;\n",
              "    }\n",
              "\n",
              "    .colab-df-convert {\n",
              "      background-color: #E8F0FE;\n",
              "      border: none;\n",
              "      border-radius: 50%;\n",
              "      cursor: pointer;\n",
              "      display: none;\n",
              "      fill: #1967D2;\n",
              "      height: 32px;\n",
              "      padding: 0 0 0 0;\n",
              "      width: 32px;\n",
              "    }\n",
              "\n",
              "    .colab-df-convert:hover {\n",
              "      background-color: #E2EBFA;\n",
              "      box-shadow: 0px 1px 2px rgba(60, 64, 67, 0.3), 0px 1px 3px 1px rgba(60, 64, 67, 0.15);\n",
              "      fill: #174EA6;\n",
              "    }\n",
              "\n",
              "    [theme=dark] .colab-df-convert {\n",
              "      background-color: #3B4455;\n",
              "      fill: #D2E3FC;\n",
              "    }\n",
              "\n",
              "    [theme=dark] .colab-df-convert:hover {\n",
              "      background-color: #434B5C;\n",
              "      box-shadow: 0px 1px 3px 1px rgba(0, 0, 0, 0.15);\n",
              "      filter: drop-shadow(0px 1px 2px rgba(0, 0, 0, 0.3));\n",
              "      fill: #FFFFFF;\n",
              "    }\n",
              "  </style>\n",
              "\n",
              "      <script>\n",
              "        const buttonEl =\n",
              "          document.querySelector('#df-48da9418-a59b-4009-b586-daefb800b8a4 button.colab-df-convert');\n",
              "        buttonEl.style.display =\n",
              "          google.colab.kernel.accessAllowed ? 'block' : 'none';\n",
              "\n",
              "        async function convertToInteractive(key) {\n",
              "          const element = document.querySelector('#df-48da9418-a59b-4009-b586-daefb800b8a4');\n",
              "          const dataTable =\n",
              "            await google.colab.kernel.invokeFunction('convertToInteractive',\n",
              "                                                     [key], {});\n",
              "          if (!dataTable) return;\n",
              "\n",
              "          const docLinkHtml = 'Like what you see? Visit the ' +\n",
              "            '<a target=\"_blank\" href=https://colab.research.google.com/notebooks/data_table.ipynb>data table notebook</a>'\n",
              "            + ' to learn more about interactive tables.';\n",
              "          element.innerHTML = '';\n",
              "          dataTable['output_type'] = 'display_data';\n",
              "          await google.colab.output.renderOutput(dataTable, element);\n",
              "          const docLink = document.createElement('div');\n",
              "          docLink.innerHTML = docLinkHtml;\n",
              "          element.appendChild(docLink);\n",
              "        }\n",
              "      </script>\n",
              "    </div>\n",
              "  </div>\n",
              "  "
            ]
          },
          "metadata": {}
        },
        {
          "output_type": "stream",
          "name": "stdout",
          "text": [
            "<class 'pandas.core.frame.DataFrame'>\n",
            "RangeIndex: 13516 entries, 0 to 13515\n",
            "Data columns (total 17 columns):\n",
            " #   Column               Non-Null Count  Dtype  \n",
            "---  ------               --------------  -----  \n",
            " 0   schedule_date        13516 non-null  object \n",
            " 1   schedule_season      13516 non-null  int64  \n",
            " 2   schedule_week        13516 non-null  object \n",
            " 3   schedule_playoff     13516 non-null  bool   \n",
            " 4   team_home            13516 non-null  object \n",
            " 5   score_home           13516 non-null  int64  \n",
            " 6   score_away           13516 non-null  int64  \n",
            " 7   team_away            13516 non-null  object \n",
            " 8   team_favorite_id     11037 non-null  object \n",
            " 9   spread_favorite      11037 non-null  float64\n",
            " 10  over_under_line      11027 non-null  object \n",
            " 11  stadium              13516 non-null  object \n",
            " 12  stadium_neutral      13516 non-null  bool   \n",
            " 13  weather_temperature  12309 non-null  float64\n",
            " 14  weather_wind_mph     12293 non-null  float64\n",
            " 15  weather_humidity     8468 non-null   float64\n",
            " 16  weather_detail       2919 non-null   object \n",
            "dtypes: bool(2), float64(4), int64(3), object(8)\n",
            "memory usage: 1.6+ MB\n"
          ]
        }
      ]
    },
    {
      "cell_type": "markdown",
      "source": [
        "## Exploratory Data Analysis\n",
        "### Questions to answer with EDA:\n",
        "1. Is there a relationship between team_home and the spread_favorite columns?\n",
        "1. Is there a relationship between team_home and the over_under_line columns?\n",
        "1. What features would make sense to introduce to improve the model's ability to correctly predict the winner?\n",
        "1. Which columns, if any, should I remove from the training and test data so that the model can be effectively trained?\n",
        "1. Which columns, if any, should I remove or insert derived data for in the case that there is a lot of missing data?"
      ],
      "metadata": {
        "id": "qS7aUTCi-IcL"
      }
    },
    {
      "cell_type": "code",
      "source": [
        "scores['team_home'].value_counts()"
      ],
      "metadata": {
        "colab": {
          "base_uri": "https://localhost:8080/"
        },
        "id": "-GK-3X0j-yL2",
        "outputId": "8dbe4a8d-7f29-4301-e753-3d41ad58be6f"
      },
      "execution_count": 6,
      "outputs": [
        {
          "output_type": "execute_result",
          "data": {
            "text/plain": [
              "San Francisco 49ers         478\n",
              "Dallas Cowboys              477\n",
              "Pittsburgh Steelers         473\n",
              "Green Bay Packers           467\n",
              "Philadelphia Eagles         466\n",
              "Minnesota Vikings           466\n",
              "Denver Broncos              466\n",
              "Miami Dolphins              464\n",
              "Kansas City Chiefs          461\n",
              "Buffalo Bills               457\n",
              "Chicago Bears               455\n",
              "New York Giants             454\n",
              "Atlanta Falcons             449\n",
              "New Orleans Saints          446\n",
              "New York Jets               445\n",
              "Detroit Lions               441\n",
              "Cincinnati Bengals          437\n",
              "New England Patriots        436\n",
              "Washington Redskins         431\n",
              "Cleveland Browns            425\n",
              "San Diego Chargers          403\n",
              "Seattle Seahawks            386\n",
              "Tampa Bay Buccaneers        380\n",
              "Oakland Raiders             335\n",
              "Indianapolis Colts          326\n",
              "Los Angeles Rams            286\n",
              "Arizona Cardinals           238\n",
              "Houston Oilers              236\n",
              "Carolina Panthers           232\n",
              "Jacksonville Jaguars        230\n",
              "Baltimore Ravens            225\n",
              "Tennessee Titans            199\n",
              "St. Louis Rams              175\n",
              "Houston Texans              175\n",
              "St. Louis Cardinals         158\n",
              "Baltimore Colts             135\n",
              "Los Angeles Raiders         105\n",
              "Los Angeles Chargers         49\n",
              "Phoenix Cardinals            48\n",
              "Boston Patriots              34\n",
              "Las Vegas Raiders            25\n",
              "Washington Football Team     17\n",
              "Tennessee Oilers             16\n",
              "Washington Commanders         9\n",
              "Name: team_home, dtype: int64"
            ]
          },
          "metadata": {},
          "execution_count": 6
        }
      ]
    },
    {
      "cell_type": "code",
      "source": [
        "scores['team_favorite_id'].value_counts()"
      ],
      "metadata": {
        "id": "YwSoXGYXCh5Q",
        "outputId": "e40557ce-c5d8-47e9-a227-96384ee8a8ec",
        "colab": {
          "base_uri": "https://localhost:8080/"
        }
      },
      "execution_count": 7,
      "outputs": [
        {
          "output_type": "execute_result",
          "data": {
            "text/plain": [
              "PIT     483\n",
              "NE      477\n",
              "SF      468\n",
              "DAL     465\n",
              "DEN     448\n",
              "GB      438\n",
              "PHI     419\n",
              "MIN     399\n",
              "KC      381\n",
              "MIA     380\n",
              "LAC     369\n",
              "NO      369\n",
              "SEA     368\n",
              "BUF     355\n",
              "LAR     354\n",
              "NYG     344\n",
              "LVR     341\n",
              "TEN     340\n",
              "IND     335\n",
              "WAS     334\n",
              "CHI     326\n",
              "ATL     316\n",
              "NYJ     294\n",
              "TB      292\n",
              "CIN     291\n",
              "BAL     267\n",
              "DET     249\n",
              "CLE     241\n",
              "ARI     237\n",
              "CAR     210\n",
              "JAX     174\n",
              "PICK    143\n",
              "HOU     130\n",
              "Name: team_favorite_id, dtype: int64"
            ]
          },
          "metadata": {},
          "execution_count": 7
        }
      ]
    },
    {
      "cell_type": "code",
      "source": [
        "scores.isna().sum() # number of missing values for each column"
      ],
      "metadata": {
        "id": "-wiWTfZTCuEr",
        "outputId": "519c5575-bb40-40c2-acf9-011036a9383e",
        "colab": {
          "base_uri": "https://localhost:8080/"
        }
      },
      "execution_count": 8,
      "outputs": [
        {
          "output_type": "execute_result",
          "data": {
            "text/plain": [
              "schedule_date              0\n",
              "schedule_season            0\n",
              "schedule_week              0\n",
              "schedule_playoff           0\n",
              "team_home                  0\n",
              "score_home                 0\n",
              "score_away                 0\n",
              "team_away                  0\n",
              "team_favorite_id        2479\n",
              "spread_favorite         2479\n",
              "over_under_line         2489\n",
              "stadium                    0\n",
              "stadium_neutral            0\n",
              "weather_temperature     1207\n",
              "weather_wind_mph        1223\n",
              "weather_humidity        5048\n",
              "weather_detail         10597\n",
              "dtype: int64"
            ]
          },
          "metadata": {},
          "execution_count": 8
        }
      ]
    },
    {
      "cell_type": "code",
      "source": [
        "# create a pie chart to visualize spread favorite points\n",
        "spread = scores['spread_favorite'].value_counts()\n",
        "display(spread)\n",
        "\n",
        "plt.pie(spread, labels=spread.index, shadow = True)"
      ],
      "metadata": {
        "id": "UziujgpoC-JW",
        "outputId": "3a07e3c5-4618-4fcf-db72-387a01106567",
        "colab": {
          "base_uri": "https://localhost:8080/",
          "height": 1000
        }
      },
      "execution_count": 11,
      "outputs": [
        {
          "output_type": "display_data",
          "data": {
            "text/plain": [
              "-3.0     1698\n",
              "-3.5      866\n",
              "-7.0      791\n",
              "-2.5      723\n",
              "-4.0      612\n",
              "-6.0      603\n",
              "-1.0      552\n",
              "-6.5      549\n",
              "-2.0      488\n",
              "-4.5      381\n",
              "-5.5      372\n",
              "-7.5      345\n",
              "-1.5      341\n",
              "-5.0      332\n",
              "-10.0     320\n",
              "-9.0      265\n",
              "-8.0      244\n",
              "-9.5      206\n",
              "-8.5      181\n",
              "-10.5     167\n",
              " 0.0      143\n",
              "-11.0     131\n",
              "-13.0     113\n",
              "-13.5     111\n",
              "-14.0     104\n",
              "-12.0      73\n",
              "-11.5      65\n",
              "-12.5      58\n",
              "-14.5      57\n",
              "-17.0      27\n",
              "-15.0      24\n",
              "-16.0      22\n",
              "-16.5      20\n",
              "-15.5      18\n",
              "-18.0       9\n",
              "-17.5       6\n",
              "-20.0       4\n",
              "-19.0       3\n",
              "-18.5       3\n",
              "-19.5       2\n",
              "-20.5       2\n",
              "-24.0       1\n",
              "-24.5       1\n",
              "-22.5       1\n",
              "-26.5       1\n",
              "-21.5       1\n",
              "-21.0       1\n",
              "Name: spread_favorite, dtype: int64"
            ]
          },
          "metadata": {}
        },
        {
          "output_type": "execute_result",
          "data": {
            "text/plain": [
              "([<matplotlib.patches.Wedge at 0x7f4829e29900>,\n",
              "  <matplotlib.patches.Wedge at 0x7f4829e2be20>,\n",
              "  <matplotlib.patches.Wedge at 0x7f4829e2aaa0>,\n",
              "  <matplotlib.patches.Wedge at 0x7f4829e28490>,\n",
              "  <matplotlib.patches.Wedge at 0x7f4829fff310>,\n",
              "  <matplotlib.patches.Wedge at 0x7f4829ffceb0>,\n",
              "  <matplotlib.patches.Wedge at 0x7f4829ffcac0>,\n",
              "  <matplotlib.patches.Wedge at 0x7f4829ffd960>,\n",
              "  <matplotlib.patches.Wedge at 0x7f486c55a0e0>,\n",
              "  <matplotlib.patches.Wedge at 0x7f4829fff2e0>,\n",
              "  <matplotlib.patches.Wedge at 0x7f4829e29960>,\n",
              "  <matplotlib.patches.Wedge at 0x7f4829ffe830>,\n",
              "  <matplotlib.patches.Wedge at 0x7f4829ffdde0>,\n",
              "  <matplotlib.patches.Wedge at 0x7f4829ffe500>,\n",
              "  <matplotlib.patches.Wedge at 0x7f482a072260>,\n",
              "  <matplotlib.patches.Wedge at 0x7f482a071300>,\n",
              "  <matplotlib.patches.Wedge at 0x7f482a073970>,\n",
              "  <matplotlib.patches.Wedge at 0x7f482a071ba0>,\n",
              "  <matplotlib.patches.Wedge at 0x7f482a072410>,\n",
              "  <matplotlib.patches.Wedge at 0x7f482a071a80>,\n",
              "  <matplotlib.patches.Wedge at 0x7f482a070820>,\n",
              "  <matplotlib.patches.Wedge at 0x7f482a073ac0>,\n",
              "  <matplotlib.patches.Wedge at 0x7f482a0722c0>,\n",
              "  <matplotlib.patches.Wedge at 0x7f482a1336d0>,\n",
              "  <matplotlib.patches.Wedge at 0x7f482a130640>,\n",
              "  <matplotlib.patches.Wedge at 0x7f482a1308b0>,\n",
              "  <matplotlib.patches.Wedge at 0x7f482a130c70>,\n",
              "  <matplotlib.patches.Wedge at 0x7f482a1325f0>,\n",
              "  <matplotlib.patches.Wedge at 0x7f482a133cd0>,\n",
              "  <matplotlib.patches.Wedge at 0x7f482a133a60>,\n",
              "  <matplotlib.patches.Wedge at 0x7f482a130790>,\n",
              "  <matplotlib.patches.Wedge at 0x7f482a133310>,\n",
              "  <matplotlib.patches.Wedge at 0x7f482ec57f10>,\n",
              "  <matplotlib.patches.Wedge at 0x7f482ae03160>,\n",
              "  <matplotlib.patches.Wedge at 0x7f482ae03ca0>,\n",
              "  <matplotlib.patches.Wedge at 0x7f482a0efc70>,\n",
              "  <matplotlib.patches.Wedge at 0x7f482a0edcc0>,\n",
              "  <matplotlib.patches.Wedge at 0x7f482a0ed180>,\n",
              "  <matplotlib.patches.Wedge at 0x7f482a0ee740>,\n",
              "  <matplotlib.patches.Wedge at 0x7f482a0ed810>,\n",
              "  <matplotlib.patches.Wedge at 0x7f482a0ecd60>,\n",
              "  <matplotlib.patches.Wedge at 0x7f482a0ee710>,\n",
              "  <matplotlib.patches.Wedge at 0x7f482a0ec070>,\n",
              "  <matplotlib.patches.Wedge at 0x7f482a0ef460>,\n",
              "  <matplotlib.patches.Wedge at 0x7f482a0ef640>,\n",
              "  <matplotlib.patches.Wedge at 0x7f482edaea40>,\n",
              "  <matplotlib.patches.Wedge at 0x7f482c898040>],\n",
              " [Text(0.9740016190143815, 0.5111955067851864, '-3.0'),\n",
              "  Text(0.3850838749683735, 1.0303933274431383, '-3.5'),\n",
              "  Text(-0.125127624099792, 1.0928600448763517, '-7.0'),\n",
              "  Text(-0.5702100252513914, 0.9406702541819889, '-2.5'),\n",
              "  Text(-0.8784457028983326, 0.6620673281921218, '-4.0'),\n",
              "  Text(-1.0508660703866688, 0.32508537664755244, '-6.0'),\n",
              "  Text(-1.0995454573558443, -0.03161941188775701, '-1.0'),\n",
              "  Text(-1.0362428716756151, -0.3690538048868687, '-6.5'),\n",
              "  Text(-0.8840671051039715, -0.6545420946532651, '-2.0'),\n",
              "  Text(-0.6969018403579469, -0.851074511958681, '-4.5'),\n",
              "  Text(-0.49993344669375495, -0.9798298571062747, '-5.5'),\n",
              "  Text(-0.2909714870023945, -1.060818360395226, '-7.5'),\n",
              "  Text(-0.07961579012006258, -1.0971150012480726, '-1.5'),\n",
              "  Text(0.13072524699818713, -1.092204609859006, '-5.0'),\n",
              "  Text(0.33001734337109834, -1.0493276671632568, '-10.0'),\n",
              "  Text(0.49937563131953827, -0.9801142682586622, '-9.0'),\n",
              "  Text(0.635648949706906, -0.8977474103201343, '-8.0'),\n",
              "  Text(0.7451188615536664, -0.8091958243571011, '-9.5'),\n",
              "  Text(0.8295605794235315, -0.7223774948505074, '-8.5'),\n",
              "  Text(0.8969325130330262, -0.6367982938609843, '-10.5'),\n",
              "  Text(0.9495605141412751, -0.5552790559563341, '0.0'),\n",
              "  Text(0.9899373818046956, -0.4796081526680553, '-11.0'),\n",
              "  Text(1.020834048941313, -0.40975339476578476, '-13.0'),\n",
              "  Text(1.0448678391596182, -0.3438767201918591, '-13.5'),\n",
              "  Text(1.0639432692726727, -0.2793290528559055, '-14.0'),\n",
              "  Text(1.0766603438956928, -0.22539410791413475, '-12.0'),\n",
              "  Text(1.0846811617014636, -0.1829392725741624, '-11.5'),\n",
              "  Text(1.0904200166507494, -0.1448591981455776, '-12.5'),\n",
              "  Text(1.0945768227134889, -0.10909435905877037, '-14.5'),\n",
              "  Text(1.0968721502441174, -0.08289442694684866, '-17.0'),\n",
              "  Text(1.0979598915373183, -0.06696324794512357, '-15.0'),\n",
              "  Text(1.098742535564138, -0.052581751036733376, '-16.0'),\n",
              "  Text(1.0992926175258857, -0.03944288342764404, '-16.5'),\n",
              "  Text(1.0996549340288493, -0.027550427691913265, '-15.5'),\n",
              "  Text(1.0998341910852092, -0.019098484755180063, '-18.0'),\n",
              "  Text(1.0999057094480102, -0.014402441587089547, '-17.5'),\n",
              "  Text(1.099942249004357, -0.011271595061794473, '-20.0'),\n",
              "  Text(1.099962524165657, -0.009079946647250899, '-19.0'),\n",
              "  Text(1.0999764271963341, -0.007201361842600251, '-18.5'),\n",
              "  Text(1.0999855622243584, -0.005635858227664259, '-19.5'),\n",
              "  Text(1.0999912660529225, -0.004383446964297768, '-20.5'),\n",
              "  Text(1.0999946081395928, -0.0034441346988963928, '-24.0'),\n",
              "  Text(1.0999963905841776, -0.002817925084446171, '-24.5'),\n",
              "  Text(1.0999978165375155, -0.0021917145567514726, '-22.5'),\n",
              "  Text(1.0999988859991445, -0.0015655033187571212, '-26.5'),\n",
              "  Text(1.099999598968718, -0.0009392915734081684, '-21.5'),\n",
              "  Text(1.0999999554460047, -0.0003130795236498309, '-21.0')])"
            ]
          },
          "metadata": {},
          "execution_count": 11
        },
        {
          "output_type": "display_data",
          "data": {
            "text/plain": [
              "<Figure size 640x480 with 1 Axes>"
            ],
            "image/png": "[encoded data removed]"
          },
          "metadata": {}
        }
      ]
    },
    {
      "cell_type": "code",
      "source": [
        "# create a bar chart to visualize the same spread favorite points\n",
        "sns.barplot(y=spread.index, x=spread.values, orient='h')"
      ],
      "metadata": {
        "id": "wC1tc_txF6w4",
        "outputId": "b7b3f0f7-f880-4756-e5a9-afd7e70559c9",
        "colab": {
          "base_uri": "https://localhost:8080/",
          "height": 449
        }
      },
      "execution_count": 12,
      "outputs": [
        {
          "output_type": "execute_result",
          "data": {
            "text/plain": [
              "<Axes: >"
            ]
          },
          "metadata": {},
          "execution_count": 12
        },
        {
          "output_type": "display_data",
          "data": {
            "text/plain": [
              "<Figure size 640x480 with 1 Axes>"
            ],
            "image/png": "[encoded data removed]"
          },
          "metadata": {}
        }
      ]
    },
    {
      "cell_type": "code",
      "source": [
        "scores.describe()"
      ],
      "metadata": {
        "id": "UZTfe47yGnOf",
        "outputId": "436de1f5-be2a-4dce-caea-98db2889a395",
        "colab": {
          "base_uri": "https://localhost:8080/",
          "height": 364
        }
      },
      "execution_count": 15,
      "outputs": [
        {
          "output_type": "execute_result",
          "data": {
            "text/plain": [
              "       schedule_season    score_home    score_away  spread_favorite  \\\n",
              "count     13516.000000  13516.000000  13516.000000     11037.000000   \n",
              "mean       1996.082939     22.461897     19.784848        -5.385204   \n",
              "std          16.144258     10.526423     10.165222         3.439617   \n",
              "min        1966.000000      0.000000      0.000000       -26.500000   \n",
              "25%        1983.000000     15.000000     13.000000        -7.000000   \n",
              "50%        1997.000000     22.000000     20.000000        -4.500000   \n",
              "75%        2010.000000     29.000000     27.000000        -3.000000   \n",
              "max        2022.000000     72.000000     62.000000         0.000000   \n",
              "\n",
              "       weather_temperature  weather_wind_mph  weather_humidity  \n",
              "count         12309.000000      12293.000000       8468.000000  \n",
              "mean             58.833211          7.689010         67.212801  \n",
              "std              15.538656          5.694124         15.796414  \n",
              "min              -6.000000          0.000000          4.000000  \n",
              "25%              48.000000          3.000000         57.000000  \n",
              "50%              62.000000          8.000000         69.000000  \n",
              "75%              72.000000         11.000000         79.000000  \n",
              "max              97.000000         40.000000        100.000000  "
            ],
            "text/html": [
              "\n",
              "  <div id=\"df-9cb6d93c-51a9-4a53-b8a2-d4080df640e5\">\n",
              "    <div class=\"colab-df-container\">\n",
              "      <div>\n",
              "<style scoped>\n",
              "    .dataframe tbody tr th:only-of-type {\n",
              "        vertical-align: middle;\n",
              "    }\n",
              "\n",
              "    .dataframe tbody tr th {\n",
              "        vertical-align: top;\n",
              "    }\n",
              "\n",
              "    .dataframe thead th {\n",
              "        text-align: right;\n",
              "    }\n",
              "</style>\n",
              "<table border=\"1\" class=\"dataframe\">\n",
              "  <thead>\n",
              "    <tr style=\"text-align: right;\">\n",
              "      <th></th>\n",
              "      <th>schedule_season</th>\n",
              "      <th>score_home</th>\n",
              "      <th>score_away</th>\n",
              "      <th>spread_favorite</th>\n",
              "      <th>weather_temperature</th>\n",
              "      <th>weather_wind_mph</th>\n",
              "      <th>weather_humidity</th>\n",
              "    </tr>\n",
              "  </thead>\n",
              "  <tbody>\n",
              "    <tr>\n",
              "      <th>count</th>\n",
              "      <td>13516.000000</td>\n",
              "      <td>13516.000000</td>\n",
              "      <td>13516.000000</td>\n",
              "      <td>11037.000000</td>\n",
              "      <td>12309.000000</td>\n",
              "      <td>12293.000000</td>\n",
              "      <td>8468.000000</td>\n",
              "    </tr>\n",
              "    <tr>\n",
              "      <th>mean</th>\n",
              "      <td>1996.082939</td>\n",
              "      <td>22.461897</td>\n",
              "      <td>19.784848</td>\n",
              "      <td>-5.385204</td>\n",
              "      <td>58.833211</td>\n",
              "      <td>7.689010</td>\n",
              "      <td>67.212801</td>\n",
              "    </tr>\n",
              "    <tr>\n",
              "      <th>std</th>\n",
              "      <td>16.144258</td>\n",
              "      <td>10.526423</td>\n",
              "      <td>10.165222</td>\n",
              "      <td>3.439617</td>\n",
              "      <td>15.538656</td>\n",
              "      <td>5.694124</td>\n",
              "      <td>15.796414</td>\n",
              "    </tr>\n",
              "    <tr>\n",
              "      <th>min</th>\n",
              "      <td>1966.000000</td>\n",
              "      <td>0.000000</td>\n",
              "      <td>0.000000</td>\n",
              "      <td>-26.500000</td>\n",
              "      <td>-6.000000</td>\n",
              "      <td>0.000000</td>\n",
              "      <td>4.000000</td>\n",
              "    </tr>\n",
              "    <tr>\n",
              "      <th>25%</th>\n",
              "      <td>1983.000000</td>\n",
              "      <td>15.000000</td>\n",
              "      <td>13.000000</td>\n",
              "      <td>-7.000000</td>\n",
              "      <td>48.000000</td>\n",
              "      <td>3.000000</td>\n",
              "      <td>57.000000</td>\n",
              "    </tr>\n",
              "    <tr>\n",
              "      <th>50%</th>\n",
              "      <td>1997.000000</td>\n",
              "      <td>22.000000</td>\n",
              "      <td>20.000000</td>\n",
              "      <td>-4.500000</td>\n",
              "      <td>62.000000</td>\n",
              "      <td>8.000000</td>\n",
              "      <td>69.000000</td>\n",
              "    </tr>\n",
              "    <tr>\n",
              "      <th>75%</th>\n",
              "      <td>2010.000000</td>\n",
              "      <td>29.000000</td>\n",
              "      <td>27.000000</td>\n",
              "      <td>-3.000000</td>\n",
              "      <td>72.000000</td>\n",
              "      <td>11.000000</td>\n",
              "      <td>79.000000</td>\n",
              "    </tr>\n",
              "    <tr>\n",
              "      <th>max</th>\n",
              "      <td>2022.000000</td>\n",
              "      <td>72.000000</td>\n",
              "      <td>62.000000</td>\n",
              "      <td>0.000000</td>\n",
              "      <td>97.000000</td>\n",
              "      <td>40.000000</td>\n",
              "      <td>100.000000</td>\n",
              "    </tr>\n",
              "  </tbody>\n",
              "</table>\n",
              "</div>\n",
              "      <button class=\"colab-df-convert\" onclick=\"convertToInteractive('df-9cb6d93c-51a9-4a53-b8a2-d4080df640e5')\"\n",
              "              title=\"Convert this dataframe to an interactive table.\"\n",
              "              style=\"display:none;\">\n",
              "        \n",
              "  <svg xmlns=\"http://www.w3.org/2000/svg\" height=\"24px\"viewBox=\"0 0 24 24\"\n",
              "       width=\"24px\">\n",
              "    <path d=\"M0 0h24v24H0V0z\" fill=\"none\"/>\n",
              "    <path d=\"M18.56 5.44l.94 2.06.94-2.06 2.06-.94-2.06-.94-.94-2.06-.94 2.06-2.06.94zm-11 1L8.5 8.5l.94-2.06 2.06-.94-2.06-.94L8.5 2.5l-.94 2.06-2.06.94zm10 10l.94 2.06.94-2.06 2.06-.94-2.06-.94-.94-2.06-.94 2.06-2.06.94z\"/><path d=\"M17.41 7.96l-1.37-1.37c-.4-.4-.92-.59-1.43-.59-.52 0-1.04.2-1.43.59L10.3 9.45l-7.72 7.72c-.78.78-.78 2.05 0 2.83L4 21.41c.39.39.9.59 1.41.59.51 0 1.02-.2 1.41-.59l7.78-7.78 2.81-2.81c.8-.78.8-2.07 0-2.86zM5.41 20L4 18.59l7.72-7.72 1.47 1.35L5.41 20z\"/>\n",
              "  </svg>\n",
              "      </button>\n",
              "      \n",
              "  <style>\n",
              "    .colab-df-container {\n",
              "      display:flex;\n",
              "      flex-wrap:wrap;\n",
              "      gap: 12px;\n",
              "    }\n",
              "\n",
              "    .colab-df-convert {\n",
              "      background-color: #E8F0FE;\n",
              "      border: none;\n",
              "      border-radius: 50%;\n",
              "      cursor: pointer;\n",
              "      display: none;\n",
              "      fill: #1967D2;\n",
              "      height: 32px;\n",
              "      padding: 0 0 0 0;\n",
              "      width: 32px;\n",
              "    }\n",
              "\n",
              "    .colab-df-convert:hover {\n",
              "      background-color: #E2EBFA;\n",
              "      box-shadow: 0px 1px 2px rgba(60, 64, 67, 0.3), 0px 1px 3px 1px rgba(60, 64, 67, 0.15);\n",
              "      fill: #174EA6;\n",
              "    }\n",
              "\n",
              "    [theme=dark] .colab-df-convert {\n",
              "      background-color: #3B4455;\n",
              "      fill: #D2E3FC;\n",
              "    }\n",
              "\n",
              "    [theme=dark] .colab-df-convert:hover {\n",
              "      background-color: #434B5C;\n",
              "      box-shadow: 0px 1px 3px 1px rgba(0, 0, 0, 0.15);\n",
              "      filter: drop-shadow(0px 1px 2px rgba(0, 0, 0, 0.3));\n",
              "      fill: #FFFFFF;\n",
              "    }\n",
              "  </style>\n",
              "\n",
              "      <script>\n",
              "        const buttonEl =\n",
              "          document.querySelector('#df-9cb6d93c-51a9-4a53-b8a2-d4080df640e5 button.colab-df-convert');\n",
              "        buttonEl.style.display =\n",
              "          google.colab.kernel.accessAllowed ? 'block' : 'none';\n",
              "\n",
              "        async function convertToInteractive(key) {\n",
              "          const element = document.querySelector('#df-9cb6d93c-51a9-4a53-b8a2-d4080df640e5');\n",
              "          const dataTable =\n",
              "            await google.colab.kernel.invokeFunction('convertToInteractive',\n",
              "                                                     [key], {});\n",
              "          if (!dataTable) return;\n",
              "\n",
              "          const docLinkHtml = 'Like what you see? Visit the ' +\n",
              "            '<a target=\"_blank\" href=https://colab.research.google.com/notebooks/data_table.ipynb>data table notebook</a>'\n",
              "            + ' to learn more about interactive tables.';\n",
              "          element.innerHTML = '';\n",
              "          dataTable['output_type'] = 'display_data';\n",
              "          await google.colab.output.renderOutput(dataTable, element);\n",
              "          const docLink = document.createElement('div');\n",
              "          docLink.innerHTML = docLinkHtml;\n",
              "          element.appendChild(docLink);\n",
              "        }\n",
              "      </script>\n",
              "    </div>\n",
              "  </div>\n",
              "  "
            ]
          },
          "metadata": {},
          "execution_count": 15
        }
      ]
    },
    {
      "cell_type": "code",
      "source": [
        "# visualize relationships that may exist between team_home and spread_favorite\n",
        "sns.scatterplot(x=scores['team_favorite_id'], y=scores['spread_favorite'])"
      ],
      "metadata": {
        "id": "m1oc4EVaGzcA",
        "outputId": "bbdaa2d2-8a26-4c3c-a0e8-23600c028d8e",
        "colab": {
          "base_uri": "https://localhost:8080/",
          "height": 468
        }
      },
      "execution_count": 17,
      "outputs": [
        {
          "output_type": "execute_result",
          "data": {
            "text/plain": [
              "<Axes: xlabel='team_favorite_id', ylabel='spread_favorite'>"
            ]
          },
          "metadata": {},
          "execution_count": 17
        },
        {
          "output_type": "display_data",
          "data": {
            "text/plain": [
              "<Figure size 640x480 with 1 Axes>"
            ],
            "image/png": "[encoded data removed]"
          },
          "metadata": {}
        }
      ]
    }
  ]
}