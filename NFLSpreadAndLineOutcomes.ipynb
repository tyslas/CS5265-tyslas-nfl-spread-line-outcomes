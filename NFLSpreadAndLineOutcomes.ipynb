{
  "nbformat": 4,
  "nbformat_minor": 0,
  "metadata": {
    "colab": {
      "provenance": [],
      "mount_file_id": "https://github.com/tyslas/CS5265-tyslas-nfl-spread-line-outcomes/blob/main/NFLSpreadAndLineOutcomes.ipynb",
      "authorship_tag": "ABX9TyNwBYSve9RM58XS5iFQrXo5",
      "include_colab_link": true
    },
    "kernelspec": {
      "name": "python3",
      "display_name": "Python 3"
    },
    "language_info": {
      "name": "python"
    }
  },
  "cells": [
    {
      "cell_type": "markdown",
      "metadata": {
        "id": "view-in-github",
        "colab_type": "text"
      },
      "source": [
        "<a href=\"https://colab.research.google.com/github/tyslas/CS5265-tyslas-nfl-spread-line-outcomes/blob/main/NFLSpreadAndLineOutcomes.ipynb\" target=\"_parent\"><img src=\"https://colab.research.google.com/assets/colab-badge.svg\" alt=\"Open In Colab\"/></a>"
      ]
    },
    {
      "cell_type": "markdown",
      "source": [
        "\n",
        "# Project to predict future NFL Spread & Line outcomes\n",
        "\n",
        "## Author: Tito Yslas\n",
        "\n",
        "### Background\n",
        "I enjoy watching the NFL and playing fantasy football. I also like to place bets on games using apps like FanDuel. The purpose of this project is to increase my understanding of the NFL betting market and possibly create a machine learning model to give myself an edge next season.\n",
        "\n",
        "### Project Description\n",
        "I found a dataset from Kaggle titled [NFL scores and betting data](https://www.kaggle.com/datasets/tobycrabtree/nfl-scores-and-betting-data?resource=download). This dataset has over 13,000 samples and 17 features. The goal is to use this dataset to train a model that will predict the winner of a given game.\n",
        "\n",
        "### Performance Metric\n",
        "For my performance metric, I will aim for the model to have at least 70% accuracy."
      ],
      "metadata": {
        "id": "AB1jvMR96flY"
      }
    },
    {
      "cell_type": "markdown",
      "source": [
        "## Import Libraries"
      ],
      "metadata": {
        "id": "9BTvFVEI9cf7"
      }
    },
    {
      "cell_type": "code",
      "source": [
        "import pandas as pd\n",
        "import os\n",
        "import seaborn as sns\n",
        "import matplotlib.pyplot as plt"
      ],
      "metadata": {
        "id": "hqcOze6S9aFh"
      },
      "execution_count": 3,
      "outputs": []
    },
    {
      "cell_type": "markdown",
      "source": [
        "## Load Data\n",
        "\n",
        "### Data Dictionary\n",
        "- schedule_date: Date that the game took place. This column is a date in the format MM/DD/YYYY\n",
        "- schedule_season: Year of the season began. NFL seasons start in the fall and end before the spring of the following year. So the 2023 season will refer to the years 2023-2024. This column is a number in the format YYYY\n",
        "- schedule_week: Week of the NFL season. This column is either a number during regular season weeks or a string in playoff weeks. For the purposes of this project the playoff weeks will be converted to numbers and the schedule_playoff column will be used to determine whether the week is a playoff game or not\n",
        "- schedule_playoff: This column is a boolean. FALSE is regular season and TRUE is playoffs\n",
        "- team_home: Name of the home team. This column is a string\n",
        "- score_home: Points scored by the home team. This column is a number\n",
        "- score_away: Points scored by the away team. This column is a number\n",
        "- winner: This column will be a feature derived from score_home and score_away columns to that will use one hot encoding - if team_home scores more points this will be a 1 - if team_home scores fewer points it will be a 0\n",
        "- team_away: Name of the away team. This column is a string\n",
        "- team_favorite_id: Acronym of the team that was determined most likely to win by the betting market. It is either two or three letters. For the purposes of this project this column will be changed to be either the team_home or team_away name\n",
        "- team_home_favorite: this will represent the encoded team_favorite_id - if team_home is favored this column will be marked as a 1 - if it's a zero then we know that team_away is favored\n",
        "- spread_favorite: The number of points that the favored team needs to win by for a bet placed on the spread of the favorite to win. This column will either be a negative number or zero\n",
        "- over_under_line: The number of points that both teams combined need to score for a bet placed on the 'line' to win. This column is a positive number\n",
        "- stadium: Name of the venue that the game is played\n",
        "- stadium_neutral: This column is a boolean. FALSE is not a neutral venue and TRUE is a neutral venue - for the purposes of this project this column will be one hot encoded with a neutral venue being marked as a 1 and non-neutral marked as a 0\n",
        "- weather_temperature: The temperature in Fahrenheit at the venue where the game is played. This column is a number\n",
        "- weather_wind_mph: The speed of wind in miles per hour. This column is a number\n",
        "- weather_humidity: The measurement of water vapor in the air during the game measured as a percentage. This column is a number\n",
        "- weather_detail: Other information about the weather conditions - if the venue is indoor or the venue has a retractable roof. This column is a string\n"
      ],
      "metadata": {
        "id": "pW84W_CR9gbO"
      }
    },
    {
      "cell_type": "markdown",
      "source": [
        "## Exploratory Data Analysis\n",
        "### Questions to answer with EDA:\n",
        "1. Which columns, if any, should I modify the data type to better train my model?\n",
        "1. Which columns, if any, should I remove from the training and test data so that the model can be effectively trained?\n",
        "1. Which columns, if any, should I remove or insert derived data for in the case that there is a lot of missing data?\n",
        "1. What features could it make sense to introduce to improve the training and performance of my model?"
      ],
      "metadata": {
        "id": "qS7aUTCi-IcL"
      }
    },
    {
      "cell_type": "code",
      "source": [
        "from google.colab import drive\n",
        "drive.mount('/content/drive/')\n",
        "# change directory to relevant files\n",
        "%cd /content/drive/MyDrive/vandy/nfl\n",
        "# print all file names in directory\n",
        "for file in os.listdir():\n",
        "  print(file)"
      ],
      "metadata": {
        "colab": {
          "base_uri": "https://localhost:8080/"
        },
        "id": "Dws_uGxH63s7",
        "outputId": "964311e9-346c-4c22-ae37-88c637a29fd4"
      },
      "execution_count": 4,
      "outputs": [
        {
          "output_type": "stream",
          "name": "stdout",
          "text": [
            "Drive already mounted at /content/drive/; to attempt to forcibly remount, call drive.mount(\"/content/drive/\", force_remount=True).\n",
            "/content/drive/MyDrive/vandy/nfl\n",
            "data_dictionary.csv\n",
            "spreadspoke_scores.csv\n"
          ]
        }
      ]
    },
    {
      "cell_type": "code",
      "source": [
        "scores = pd.read_csv('spreadspoke_scores.csv')"
      ],
      "metadata": {
        "id": "BidRFzFS-MbB"
      },
      "execution_count": 21,
      "outputs": []
    },
    {
      "cell_type": "code",
      "source": [
        "scores.info()\n",
        "scores.describe()"
      ],
      "metadata": {
        "id": "UZTfe47yGnOf"
      },
      "execution_count": null,
      "outputs": []
    },
    {
      "cell_type": "markdown",
      "source": [
        "### Answer to Question 1\n",
        "- I think that it makes sense to modify both team_home and team_away to have the same IDs as team_favorite_id to make it easier for the model to indentify when team_home is the same or different as team_favorite_id\n",
        "- Currently Pandas is indentifying schedule_date as an object, it could make sense to see if there's a way for Pandas to indentify this as a date\n",
        "- Currently Pandas is indentifying schedule_week as an object. This is because some of the data in this column is in string format. It could make sense to modify the data of this column that is in a string to only be in int64 format and use the schedule_playoff column to be the soe determination of whether or not the schedule_week is a playoff game\n",
        "- Currently Pandas is indentifying the over_under_line column as an object data type despite the fact that it should be a float. I will explore how to ensure that this column's data type is correctly identified\n",
        "- The stadium_neutral column is currently a boolean type, I think I will convert this to use one hot encoding instead"
      ],
      "metadata": {
        "id": "0LOL15VkNu2F"
      }
    },
    {
      "cell_type": "markdown",
      "source": [
        "### Answer to Question 2\n",
        "- Based on my initial examination, I'm not sure if it makes sense to remove any of my columns from the data set on which I will train my model"
      ],
      "metadata": {
        "id": "5XaePv3MQqLj"
      }
    },
    {
      "cell_type": "code",
      "source": [
        "scores.isna().sum() # number of missing values for each column"
      ],
      "metadata": {
        "colab": {
          "base_uri": "https://localhost:8080/"
        },
        "id": "-wiWTfZTCuEr",
        "outputId": "de479a60-d769-41b5-a224-d5f3caaf6e71"
      },
      "execution_count": 19,
      "outputs": [
        {
          "output_type": "execute_result",
          "data": {
            "text/plain": [
              "schedule_date              0\n",
              "schedule_season            0\n",
              "schedule_week              0\n",
              "schedule_playoff           0\n",
              "team_home                  0\n",
              "score_home                 0\n",
              "score_away                 0\n",
              "team_away                  0\n",
              "team_favorite_id        2479\n",
              "spread_favorite         2479\n",
              "over_under_line         2489\n",
              "stadium                    0\n",
              "stadium_neutral            0\n",
              "weather_temperature     1207\n",
              "weather_wind_mph        1223\n",
              "weather_humidity        5048\n",
              "weather_detail         10597\n",
              "dtype: int64"
            ]
          },
          "metadata": {},
          "execution_count": 19
        }
      ]
    },
    {
      "cell_type": "markdown",
      "source": [
        "### Answer to Question 3\n",
        "- the columns with missing data include team_favorite_id, spread_favorite, over_under_line, weather_temperature, weather_wind_mph, weather_humidity, and weather_detail. these columns have many missing values because this data was not collected in earlier seasons. for example, there is minimal team_favorite_id information collected from the 1978 schedule_season and previous to that likely because of the lack of public betting information before that time\n",
        "- for the missing data I don't think that it makes sense to remove these columns, however it might make sense to only train and test on the observations from the 1979 schedule_season and beyond"
      ],
      "metadata": {
        "id": "6AD4kleLK_5Z"
      }
    },
    {
      "cell_type": "markdown",
      "source": [
        "### Answer to Question 4\n",
        "- I think it makes sense to introduce/derive three different target columns for understanding the performance of the model\n",
        "- The three target columns I am thinking about introducing are derived from score_home, score_away, and over_under_line\n",
        "- These targets would be one hot encoded as team_home_win, team_home_cover_spread, and cover_line\n",
        "- team_home_win would be a 1 if team_home wins or a 0 if they lose\n",
        "- team_home_cover_spread would be a 1 if they cover the spread_favorite and a 0 if they don't\n",
        "- cover_line would be a 1 if score_home + score_way is greater than the over_under_line and a 0 if it's less than"
      ],
      "metadata": {
        "id": "SF4mwL9RSDqt"
      }
    },
    {
      "cell_type": "code",
      "source": [
        "# create a pie chart to visualize spread favorite points\n",
        "spread = scores['spread_favorite'].value_counts()\n",
        "display(spread)\n",
        "\n",
        "plt.pie(spread, labels=spread.index, shadow = True)"
      ],
      "metadata": {
        "id": "UziujgpoC-JW"
      },
      "execution_count": null,
      "outputs": []
    },
    {
      "cell_type": "code",
      "source": [
        "# create a bar chart to visualize the same spread favorite points\n",
        "sns.barplot(y=spread.index, x=spread.values, orient='h')"
      ],
      "metadata": {
        "id": "wC1tc_txF6w4"
      },
      "execution_count": null,
      "outputs": []
    },
    {
      "cell_type": "code",
      "source": [
        "# visualize relationships that may exist between team_home and spread_favorite\n",
        "sns.scatterplot(x=scores['team_favorite_id'], y=scores['spread_favorite'])"
      ],
      "metadata": {
        "id": "m1oc4EVaGzcA"
      },
      "execution_count": null,
      "outputs": []
    }
  ]
}